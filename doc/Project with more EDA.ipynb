{
 "cells": [
  {
   "cell_type": "markdown",
   "metadata": {},
   "source": [
    "# GR5291 Final Project\n",
    "\n",
    "## Group Member: Ares Wang(yw3626), Gexin Chen(gc2936), Zixuan Liu(zl3055)"
   ]
  },
  {
   "cell_type": "code",
   "execution_count": 2,
   "metadata": {},
   "outputs": [],
   "source": [
    "import timeit\n",
    "import pandas as pd\n",
    "import numpy as np\n",
    "import matplotlib.pyplot as plt\n",
    "import seaborn as sns\n",
    "from sklearn.model_selection import train_test_split\n",
    "from sklearn.preprocessing import StandardScaler\n",
    "from sklearn.preprocessing import OneHotEncoder\n",
    "from sklearn.preprocessing import LabelEncoder\n",
    "from sklearn.linear_model import LogisticRegression\n",
    "from sklearn.neighbors import KNeighborsClassifier\n",
    "from sklearn.tree import DecisionTreeClassifier\n",
    "from sklearn.model_selection import GridSearchCV\n",
    "from sklearn.svm import SVC\n",
    "from scipy.stats import chi2_contingency"
   ]
  },
  {
   "cell_type": "code",
   "execution_count": 3,
   "metadata": {},
   "outputs": [],
   "source": [
    "train_data = pd.read_csv('../data/train.csv',index_col=0)\n",
    "test_data = pd.read_csv('../data/test.csv', index_col=0)"
   ]
  },
  {
   "cell_type": "markdown",
   "metadata": {},
   "source": [
    "# 1. Exploratory Data Analysis"
   ]
  },
  {
   "cell_type": "code",
   "execution_count": 4,
   "metadata": {},
   "outputs": [
    {
     "name": "stdout",
     "output_type": "stream",
     "text": [
      "(103904, 24) (25976, 24)\n"
     ]
    }
   ],
   "source": [
    "# Get the size of data\n",
    "print(train_data.shape,test_data.shape)"
   ]
  },
  {
   "cell_type": "code",
   "execution_count": 5,
   "metadata": {},
   "outputs": [
    {
     "data": {
      "text/html": [
       "<div>\n",
       "<style scoped>\n",
       "    .dataframe tbody tr th:only-of-type {\n",
       "        vertical-align: middle;\n",
       "    }\n",
       "\n",
       "    .dataframe tbody tr th {\n",
       "        vertical-align: top;\n",
       "    }\n",
       "\n",
       "    .dataframe thead th {\n",
       "        text-align: right;\n",
       "    }\n",
       "</style>\n",
       "<table border=\"1\" class=\"dataframe\">\n",
       "  <thead>\n",
       "    <tr style=\"text-align: right;\">\n",
       "      <th></th>\n",
       "      <th>count</th>\n",
       "      <th>mean</th>\n",
       "      <th>std</th>\n",
       "      <th>min</th>\n",
       "      <th>25%</th>\n",
       "      <th>50%</th>\n",
       "      <th>75%</th>\n",
       "      <th>max</th>\n",
       "    </tr>\n",
       "  </thead>\n",
       "  <tbody>\n",
       "    <tr>\n",
       "      <th>id</th>\n",
       "      <td>103904.0</td>\n",
       "      <td>64924.210502</td>\n",
       "      <td>37463.812252</td>\n",
       "      <td>1.0</td>\n",
       "      <td>32533.75</td>\n",
       "      <td>64856.5</td>\n",
       "      <td>97368.25</td>\n",
       "      <td>129880.0</td>\n",
       "    </tr>\n",
       "    <tr>\n",
       "      <th>Age</th>\n",
       "      <td>103904.0</td>\n",
       "      <td>39.379706</td>\n",
       "      <td>15.114964</td>\n",
       "      <td>7.0</td>\n",
       "      <td>27.00</td>\n",
       "      <td>40.0</td>\n",
       "      <td>51.00</td>\n",
       "      <td>85.0</td>\n",
       "    </tr>\n",
       "    <tr>\n",
       "      <th>Flight Distance</th>\n",
       "      <td>103904.0</td>\n",
       "      <td>1189.448375</td>\n",
       "      <td>997.147281</td>\n",
       "      <td>31.0</td>\n",
       "      <td>414.00</td>\n",
       "      <td>843.0</td>\n",
       "      <td>1743.00</td>\n",
       "      <td>4983.0</td>\n",
       "    </tr>\n",
       "    <tr>\n",
       "      <th>Inflight wifi service</th>\n",
       "      <td>103904.0</td>\n",
       "      <td>2.729683</td>\n",
       "      <td>1.327829</td>\n",
       "      <td>0.0</td>\n",
       "      <td>2.00</td>\n",
       "      <td>3.0</td>\n",
       "      <td>4.00</td>\n",
       "      <td>5.0</td>\n",
       "    </tr>\n",
       "    <tr>\n",
       "      <th>Departure/Arrival time convenient</th>\n",
       "      <td>103904.0</td>\n",
       "      <td>3.060296</td>\n",
       "      <td>1.525075</td>\n",
       "      <td>0.0</td>\n",
       "      <td>2.00</td>\n",
       "      <td>3.0</td>\n",
       "      <td>4.00</td>\n",
       "      <td>5.0</td>\n",
       "    </tr>\n",
       "    <tr>\n",
       "      <th>Ease of Online booking</th>\n",
       "      <td>103904.0</td>\n",
       "      <td>2.756901</td>\n",
       "      <td>1.398929</td>\n",
       "      <td>0.0</td>\n",
       "      <td>2.00</td>\n",
       "      <td>3.0</td>\n",
       "      <td>4.00</td>\n",
       "      <td>5.0</td>\n",
       "    </tr>\n",
       "    <tr>\n",
       "      <th>Gate location</th>\n",
       "      <td>103904.0</td>\n",
       "      <td>2.976883</td>\n",
       "      <td>1.277621</td>\n",
       "      <td>0.0</td>\n",
       "      <td>2.00</td>\n",
       "      <td>3.0</td>\n",
       "      <td>4.00</td>\n",
       "      <td>5.0</td>\n",
       "    </tr>\n",
       "    <tr>\n",
       "      <th>Food and drink</th>\n",
       "      <td>103904.0</td>\n",
       "      <td>3.202129</td>\n",
       "      <td>1.329533</td>\n",
       "      <td>0.0</td>\n",
       "      <td>2.00</td>\n",
       "      <td>3.0</td>\n",
       "      <td>4.00</td>\n",
       "      <td>5.0</td>\n",
       "    </tr>\n",
       "    <tr>\n",
       "      <th>Online boarding</th>\n",
       "      <td>103904.0</td>\n",
       "      <td>3.250375</td>\n",
       "      <td>1.349509</td>\n",
       "      <td>0.0</td>\n",
       "      <td>2.00</td>\n",
       "      <td>3.0</td>\n",
       "      <td>4.00</td>\n",
       "      <td>5.0</td>\n",
       "    </tr>\n",
       "    <tr>\n",
       "      <th>Seat comfort</th>\n",
       "      <td>103904.0</td>\n",
       "      <td>3.439396</td>\n",
       "      <td>1.319088</td>\n",
       "      <td>0.0</td>\n",
       "      <td>2.00</td>\n",
       "      <td>4.0</td>\n",
       "      <td>5.00</td>\n",
       "      <td>5.0</td>\n",
       "    </tr>\n",
       "    <tr>\n",
       "      <th>Inflight entertainment</th>\n",
       "      <td>103904.0</td>\n",
       "      <td>3.358158</td>\n",
       "      <td>1.332991</td>\n",
       "      <td>0.0</td>\n",
       "      <td>2.00</td>\n",
       "      <td>4.0</td>\n",
       "      <td>4.00</td>\n",
       "      <td>5.0</td>\n",
       "    </tr>\n",
       "    <tr>\n",
       "      <th>On-board service</th>\n",
       "      <td>103904.0</td>\n",
       "      <td>3.382363</td>\n",
       "      <td>1.288354</td>\n",
       "      <td>0.0</td>\n",
       "      <td>2.00</td>\n",
       "      <td>4.0</td>\n",
       "      <td>4.00</td>\n",
       "      <td>5.0</td>\n",
       "    </tr>\n",
       "    <tr>\n",
       "      <th>Leg room service</th>\n",
       "      <td>103904.0</td>\n",
       "      <td>3.351055</td>\n",
       "      <td>1.315605</td>\n",
       "      <td>0.0</td>\n",
       "      <td>2.00</td>\n",
       "      <td>4.0</td>\n",
       "      <td>4.00</td>\n",
       "      <td>5.0</td>\n",
       "    </tr>\n",
       "    <tr>\n",
       "      <th>Baggage handling</th>\n",
       "      <td>103904.0</td>\n",
       "      <td>3.631833</td>\n",
       "      <td>1.180903</td>\n",
       "      <td>1.0</td>\n",
       "      <td>3.00</td>\n",
       "      <td>4.0</td>\n",
       "      <td>5.00</td>\n",
       "      <td>5.0</td>\n",
       "    </tr>\n",
       "    <tr>\n",
       "      <th>Checkin service</th>\n",
       "      <td>103904.0</td>\n",
       "      <td>3.304290</td>\n",
       "      <td>1.265396</td>\n",
       "      <td>0.0</td>\n",
       "      <td>3.00</td>\n",
       "      <td>3.0</td>\n",
       "      <td>4.00</td>\n",
       "      <td>5.0</td>\n",
       "    </tr>\n",
       "    <tr>\n",
       "      <th>Inflight service</th>\n",
       "      <td>103904.0</td>\n",
       "      <td>3.640428</td>\n",
       "      <td>1.175663</td>\n",
       "      <td>0.0</td>\n",
       "      <td>3.00</td>\n",
       "      <td>4.0</td>\n",
       "      <td>5.00</td>\n",
       "      <td>5.0</td>\n",
       "    </tr>\n",
       "    <tr>\n",
       "      <th>Cleanliness</th>\n",
       "      <td>103904.0</td>\n",
       "      <td>3.286351</td>\n",
       "      <td>1.312273</td>\n",
       "      <td>0.0</td>\n",
       "      <td>2.00</td>\n",
       "      <td>3.0</td>\n",
       "      <td>4.00</td>\n",
       "      <td>5.0</td>\n",
       "    </tr>\n",
       "    <tr>\n",
       "      <th>Departure Delay in Minutes</th>\n",
       "      <td>103904.0</td>\n",
       "      <td>14.815618</td>\n",
       "      <td>38.230901</td>\n",
       "      <td>0.0</td>\n",
       "      <td>0.00</td>\n",
       "      <td>0.0</td>\n",
       "      <td>12.00</td>\n",
       "      <td>1592.0</td>\n",
       "    </tr>\n",
       "    <tr>\n",
       "      <th>Arrival Delay in Minutes</th>\n",
       "      <td>103594.0</td>\n",
       "      <td>15.178678</td>\n",
       "      <td>38.698682</td>\n",
       "      <td>0.0</td>\n",
       "      <td>0.00</td>\n",
       "      <td>0.0</td>\n",
       "      <td>13.00</td>\n",
       "      <td>1584.0</td>\n",
       "    </tr>\n",
       "  </tbody>\n",
       "</table>\n",
       "</div>"
      ],
      "text/plain": [
       "                                      count          mean           std   min  \\\n",
       "id                                 103904.0  64924.210502  37463.812252   1.0   \n",
       "Age                                103904.0     39.379706     15.114964   7.0   \n",
       "Flight Distance                    103904.0   1189.448375    997.147281  31.0   \n",
       "Inflight wifi service              103904.0      2.729683      1.327829   0.0   \n",
       "Departure/Arrival time convenient  103904.0      3.060296      1.525075   0.0   \n",
       "Ease of Online booking             103904.0      2.756901      1.398929   0.0   \n",
       "Gate location                      103904.0      2.976883      1.277621   0.0   \n",
       "Food and drink                     103904.0      3.202129      1.329533   0.0   \n",
       "Online boarding                    103904.0      3.250375      1.349509   0.0   \n",
       "Seat comfort                       103904.0      3.439396      1.319088   0.0   \n",
       "Inflight entertainment             103904.0      3.358158      1.332991   0.0   \n",
       "On-board service                   103904.0      3.382363      1.288354   0.0   \n",
       "Leg room service                   103904.0      3.351055      1.315605   0.0   \n",
       "Baggage handling                   103904.0      3.631833      1.180903   1.0   \n",
       "Checkin service                    103904.0      3.304290      1.265396   0.0   \n",
       "Inflight service                   103904.0      3.640428      1.175663   0.0   \n",
       "Cleanliness                        103904.0      3.286351      1.312273   0.0   \n",
       "Departure Delay in Minutes         103904.0     14.815618     38.230901   0.0   \n",
       "Arrival Delay in Minutes           103594.0     15.178678     38.698682   0.0   \n",
       "\n",
       "                                        25%      50%       75%       max  \n",
       "id                                 32533.75  64856.5  97368.25  129880.0  \n",
       "Age                                   27.00     40.0     51.00      85.0  \n",
       "Flight Distance                      414.00    843.0   1743.00    4983.0  \n",
       "Inflight wifi service                  2.00      3.0      4.00       5.0  \n",
       "Departure/Arrival time convenient      2.00      3.0      4.00       5.0  \n",
       "Ease of Online booking                 2.00      3.0      4.00       5.0  \n",
       "Gate location                          2.00      3.0      4.00       5.0  \n",
       "Food and drink                         2.00      3.0      4.00       5.0  \n",
       "Online boarding                        2.00      3.0      4.00       5.0  \n",
       "Seat comfort                           2.00      4.0      5.00       5.0  \n",
       "Inflight entertainment                 2.00      4.0      4.00       5.0  \n",
       "On-board service                       2.00      4.0      4.00       5.0  \n",
       "Leg room service                       2.00      4.0      4.00       5.0  \n",
       "Baggage handling                       3.00      4.0      5.00       5.0  \n",
       "Checkin service                        3.00      3.0      4.00       5.0  \n",
       "Inflight service                       3.00      4.0      5.00       5.0  \n",
       "Cleanliness                            2.00      3.0      4.00       5.0  \n",
       "Departure Delay in Minutes             0.00      0.0     12.00    1592.0  \n",
       "Arrival Delay in Minutes               0.00      0.0     13.00    1584.0  "
      ]
     },
     "execution_count": 5,
     "metadata": {},
     "output_type": "execute_result"
    }
   ],
   "source": [
    "# Obtain the summary statistics of the variables\n",
    "train_data.describe().T\n",
    "#test_data.describe().T"
   ]
  },
  {
   "cell_type": "code",
   "execution_count": 6,
   "metadata": {},
   "outputs": [
    {
     "data": {
      "text/plain": [
       "id                                     int64\n",
       "Gender                                object\n",
       "Customer Type                         object\n",
       "Age                                    int64\n",
       "Type of Travel                        object\n",
       "Class                                 object\n",
       "Flight Distance                        int64\n",
       "Inflight wifi service                  int64\n",
       "Departure/Arrival time convenient      int64\n",
       "Ease of Online booking                 int64\n",
       "Gate location                          int64\n",
       "Food and drink                         int64\n",
       "Online boarding                        int64\n",
       "Seat comfort                           int64\n",
       "Inflight entertainment                 int64\n",
       "On-board service                       int64\n",
       "Leg room service                       int64\n",
       "Baggage handling                       int64\n",
       "Checkin service                        int64\n",
       "Inflight service                       int64\n",
       "Cleanliness                            int64\n",
       "Departure Delay in Minutes             int64\n",
       "Arrival Delay in Minutes             float64\n",
       "satisfaction                          object\n",
       "dtype: object"
      ]
     },
     "execution_count": 6,
     "metadata": {},
     "output_type": "execute_result"
    }
   ],
   "source": [
    "# Return the data types\n",
    "train_data.dtypes\n",
    "#test_data.dtypes"
   ]
  },
  {
   "cell_type": "code",
   "execution_count": 7,
   "metadata": {},
   "outputs": [
    {
     "name": "stdout",
     "output_type": "stream",
     "text": [
      "(45025, 24)\n",
      "(58879, 24)\n"
     ]
    },
    {
     "data": {
      "image/png": "[encoded data removed]",
      "text/plain": [
       "<Figure size 1008x432 with 1 Axes>"
      ]
     },
     "metadata": {},
     "output_type": "display_data"
    }
   ],
   "source": [
    "# Find the distribution of the target variable\n",
    "fig,ax=plt.subplots(1,1,figsize=(14,6))\n",
    "train_data.groupby('satisfaction').size().plot(kind='pie')\n",
    "print(train_data[train_data['satisfaction']=='satisfied'].shape)\n",
    "print(train_data[train_data['satisfaction']=='neutral or dissatisfied'].shape)"
   ]
  },
  {
   "cell_type": "code",
   "execution_count": 13,
   "metadata": {},
   "outputs": [
    {
     "data": {
      "text/plain": [
       "<AxesSubplot:xlabel='Flight Distance', ylabel='Density'>"
      ]
     },
     "execution_count": 13,
     "metadata": {},
     "output_type": "execute_result"
    },
    {
     "data": {
      "image/png": "[encoded data removed]",
      "text/plain": [
       "<Figure size 1008x432 with 2 Axes>"
      ]
     },
     "metadata": {
      "needs_background": "light"
     },
     "output_type": "display_data"
    }
   ],
   "source": [
    "# Visualize numerical variables\n",
    "fig,ax=plt.subplots(1,2,figsize=(14,6))\n",
    "sns.histplot(x='Age',data=train_data,ax=ax[0],kde=True,bins=20,stat='density')\n",
    "sns.histplot(x='Flight Distance',data=train_data,ax=ax[1],kde=True,bins=20,stat='density')"
   ]
  },
  {
   "cell_type": "code",
   "execution_count": 11,
   "metadata": {},
   "outputs": [
    {
     "name": "stdout",
     "output_type": "stream",
     "text": [
      "skew       -0.004516\n",
      "kurtosis   -0.719568\n",
      "Name: Age, dtype: float64\n",
      "skew        1.109466\n",
      "kurtosis    0.268535\n",
      "Name: Flight Distance, dtype: float64\n"
     ]
    }
   ],
   "source": [
    "# Measure the skewness and kurtosis\n",
    "#print(train_data['Age'].agg(['skew','kurtosis']))\n",
    "#print(train_data['Flight Distance'].agg(['skew','kurtosis']))"
   ]
  },
  {
   "cell_type": "code",
   "execution_count": 12,
   "metadata": {},
   "outputs": [
    {
     "data": {
      "text/plain": [
       "<AxesSubplot:xlabel='Class', ylabel='count'>"
      ]
     },
     "execution_count": 12,
     "metadata": {},
     "output_type": "execute_result"
    },
    {
     "data": {
      "image/png": "[encoded data removed]",
      "text/plain": [
       "<Figure size 1008x432 with 2 Axes>"
      ]
     },
     "metadata": {
      "needs_background": "light"
     },
     "output_type": "display_data"
    },
    {
     "data": {
      "image/png": "[encoded data removed]",
      "text/plain": [
       "<Figure size 1008x432 with 2 Axes>"
      ]
     },
     "metadata": {
      "needs_background": "light"
     },
     "output_type": "display_data"
    }
   ],
   "source": [
    "# Visualize categorical variables\n",
    "fig,ax=plt.subplots(1,2,figsize=(14,6))\n",
    "sns.countplot(x='Gender',hue='satisfaction',data=train_data,ax=ax[0])\n",
    "sns.countplot(x='Customer Type',hue='satisfaction',data=train_data,ax=ax[1])\n",
    "fig,ax=plt.subplots(1,2,figsize=(14,6))\n",
    "sns.countplot(x='Type of Travel',hue='satisfaction',data=train_data,ax=ax[0])\n",
    "sns.countplot(x='Class',hue='satisfaction',data=train_data,ax=ax[1])"
   ]
  },
  {
   "cell_type": "code",
   "execution_count": 9,
   "metadata": {},
   "outputs": [
    {
     "data": {
      "text/plain": [
       "id                                     0\n",
       "Gender                                 0\n",
       "Customer Type                          0\n",
       "Age                                    0\n",
       "Type of Travel                         0\n",
       "Class                                  0\n",
       "Flight Distance                        0\n",
       "Inflight wifi service                  0\n",
       "Departure/Arrival time convenient      0\n",
       "Ease of Online booking                 0\n",
       "Gate location                          0\n",
       "Food and drink                         0\n",
       "Online boarding                        0\n",
       "Seat comfort                           0\n",
       "Inflight entertainment                 0\n",
       "On-board service                       0\n",
       "Leg room service                       0\n",
       "Baggage handling                       0\n",
       "Checkin service                        0\n",
       "Inflight service                       0\n",
       "Cleanliness                            0\n",
       "Departure Delay in Minutes             0\n",
       "Arrival Delay in Minutes             310\n",
       "satisfaction                           0\n",
       "dtype: int64"
      ]
     },
     "execution_count": 9,
     "metadata": {},
     "output_type": "execute_result"
    }
   ],
   "source": [
    "# Check Missing Values\n",
    "train_data.isna().sum()"
   ]
  },
  {
   "cell_type": "code",
   "execution_count": 10,
   "metadata": {
    "scrolled": true
   },
   "outputs": [
    {
     "data": {
      "text/plain": [
       "id                                    0\n",
       "Gender                                0\n",
       "Customer Type                         0\n",
       "Age                                   0\n",
       "Type of Travel                        0\n",
       "Class                                 0\n",
       "Flight Distance                       0\n",
       "Inflight wifi service                 0\n",
       "Departure/Arrival time convenient     0\n",
       "Ease of Online booking                0\n",
       "Gate location                         0\n",
       "Food and drink                        0\n",
       "Online boarding                       0\n",
       "Seat comfort                          0\n",
       "Inflight entertainment                0\n",
       "On-board service                      0\n",
       "Leg room service                      0\n",
       "Baggage handling                      0\n",
       "Checkin service                       0\n",
       "Inflight service                      0\n",
       "Cleanliness                           0\n",
       "Departure Delay in Minutes            0\n",
       "Arrival Delay in Minutes             83\n",
       "satisfaction                          0\n",
       "dtype: int64"
      ]
     },
     "execution_count": 10,
     "metadata": {},
     "output_type": "execute_result"
    }
   ],
   "source": [
    "# Check Missing Values\n",
    "test_data.isna().sum()"
   ]
  },
  {
   "cell_type": "markdown",
   "metadata": {},
   "source": [
    "We can see that there exists missing value for feature [Arrival Delay in Minutes]. It is probably because that some questionaires is taken during the flight, so the value of Arrival Delay is not known. \n",
    "Therefore, we decide to remove missing values because there is no reasonable estimate for unknown values."
   ]
  },
  {
   "cell_type": "code",
   "execution_count": 11,
   "metadata": {},
   "outputs": [],
   "source": [
    "# NAs in Arrival Delay in Minutes\n",
    "train_data.dropna(subset=['Arrival Delay in Minutes'],inplace=True)\n",
    "test_data.dropna(subset=['Arrival Delay in Minutes'],inplace=True)\n",
    "\n",
    "# Keep a Copy of Data Before Processing\n",
    "train_data1 = train_data\n",
    "test_data1 = test_data"
   ]
  },
  {
   "cell_type": "code",
   "execution_count": 12,
   "metadata": {},
   "outputs": [],
   "source": [
    "# Transfer String Variables to Categorical Variables\n",
    "# Gender(0 for Female,1 for Male)\n",
    "le1 = LabelEncoder()\n",
    "train_data.Gender = le1.fit_transform(train_data.Gender)\n",
    "test_data.Gender = le1.transform(test_data.Gender)\n",
    "\n",
    "# Customer Type(0 for disloyal Customer, 1 for Loyal Customer)\n",
    "train_data['Customer Type'].replace(['disloyal Customer', 'Loyal Customer'], [0, 1], inplace=True)\n",
    "test_data['Customer Type'].replace(['disloyal Customer', 'Loyal Customer'], [0, 1], inplace=True)\n",
    "\n",
    "# Type of Travel(0 for Personal travel, 1 for Business Travel)\n",
    "train_data['Type of Travel'].replace(['Personal Travel', 'Business travel'], [0, 1], inplace=True)\n",
    "test_data['Type of Travel'].replace(['Personal Travel', 'Business travel'], [0, 1], inplace=True)\n",
    "\n",
    "# Class(0 for Eco, 1 for Eco Plus, 2 for Business)\n",
    "train_data['Class'].replace(['Eco', 'Eco Plus', 'Business'], [0, 1, 2], inplace=True)\n",
    "test_data['Class'].replace(['Eco', 'Eco Plus', 'Business'], [0, 1, 2], inplace=True)\n",
    "\n",
    "# Satisifaction (0 for 'Neutral or Unsatisfied'; 1 for 'Satisfied')\n",
    "train_data['satisfaction'].replace(['neutral or dissatisfied', 'satisfied'], [0, 1], inplace=True)\n",
    "test_data['satisfaction'].replace(['neutral or dissatisfied', 'satisfied'], [0, 1], inplace=True)"
   ]
  },
  {
   "cell_type": "code",
   "execution_count": 13,
   "metadata": {
    "scrolled": true
   },
   "outputs": [
    {
     "data": {
      "text/plain": [
       "<AxesSubplot:>"
      ]
     },
     "execution_count": 13,
     "metadata": {},
     "output_type": "execute_result"
    },
    {
     "data": {
      "image/png": "[encoded data removed]",
      "text/plain": [
       "<Figure size 1080x576 with 2 Axes>"
      ]
     },
     "metadata": {
      "needs_background": "light"
     },
     "output_type": "display_data"
    }
   ],
   "source": [
    "# Investigate Correlation Between Variables\n",
    "train_corr = train_data.corr()\n",
    "plt.figure(figsize = (15,8))\n",
    "sns.heatmap(train_corr[train_corr.abs() > 0.3])"
   ]
  },
  {
   "cell_type": "code",
   "execution_count": 14,
   "metadata": {},
   "outputs": [
    {
     "data": {
      "text/plain": [
       "<AxesSubplot:>"
      ]
     },
     "execution_count": 14,
     "metadata": {},
     "output_type": "execute_result"
    },
    {
     "data": {
      "image/png": "[encoded data removed]",
      "text/plain": [
       "<Figure size 1080x576 with 2 Axes>"
      ]
     },
     "metadata": {
      "needs_background": "light"
     },
     "output_type": "display_data"
    }
   ],
   "source": [
    "test_corr = test_data.corr()\n",
    "plt.figure(figsize = (15,8))\n",
    "sns.heatmap(test_corr[test_corr.abs() > 0.3])"
   ]
  },
  {
   "cell_type": "code",
   "execution_count": 15,
   "metadata": {
    "scrolled": false
   },
   "outputs": [
    {
     "data": {
      "text/plain": [
       "<AxesSubplot:>"
      ]
     },
     "execution_count": 15,
     "metadata": {},
     "output_type": "execute_result"
    },
    {
     "data": {
      "image/png": "[encoded data removed]",
      "text/plain": [
       "<Figure size 1008x1008 with 1 Axes>"
      ]
     },
     "metadata": {
      "needs_background": "light"
     },
     "output_type": "display_data"
    }
   ],
   "source": [
    "train_data1.corrwith(train_data1['satisfaction']) \\\n",
    "    .sort_values(ascending=True)[:-1] \\\n",
    "    .plot(kind='barh', figsize=(14, 14))\n"
   ]
  },
  {
   "cell_type": "markdown",
   "metadata": {},
   "source": [
    "From above, it can be observed that several features are correlated with each others. We will investigate on some correlated features to gain some business insight."
   ]
  },
  {
   "cell_type": "code",
   "execution_count": 16,
   "metadata": {
    "scrolled": true
   },
   "outputs": [
    {
     "data": {
      "text/html": [
       "<div>\n",
       "<style scoped>\n",
       "    .dataframe tbody tr th:only-of-type {\n",
       "        vertical-align: middle;\n",
       "    }\n",
       "\n",
       "    .dataframe tbody tr th {\n",
       "        vertical-align: top;\n",
       "    }\n",
       "\n",
       "    .dataframe thead th {\n",
       "        text-align: right;\n",
       "    }\n",
       "</style>\n",
       "<table border=\"1\" class=\"dataframe\">\n",
       "  <thead>\n",
       "    <tr style=\"text-align: right;\">\n",
       "      <th></th>\n",
       "      <th>id</th>\n",
       "      <th>Gender</th>\n",
       "      <th>Customer Type</th>\n",
       "      <th>Age</th>\n",
       "      <th>Type of Travel</th>\n",
       "      <th>Class</th>\n",
       "      <th>Flight Distance</th>\n",
       "      <th>Inflight wifi service</th>\n",
       "      <th>Departure/Arrival time convenient</th>\n",
       "      <th>Ease of Online booking</th>\n",
       "      <th>...</th>\n",
       "      <th>Inflight entertainment</th>\n",
       "      <th>On-board service</th>\n",
       "      <th>Leg room service</th>\n",
       "      <th>Baggage handling</th>\n",
       "      <th>Checkin service</th>\n",
       "      <th>Inflight service</th>\n",
       "      <th>Cleanliness</th>\n",
       "      <th>Departure Delay in Minutes</th>\n",
       "      <th>Arrival Delay in Minutes</th>\n",
       "      <th>satisfaction</th>\n",
       "    </tr>\n",
       "  </thead>\n",
       "  <tbody>\n",
       "    <tr>\n",
       "      <th>id</th>\n",
       "      <td>1.0</td>\n",
       "      <td>NaN</td>\n",
       "      <td>NaN</td>\n",
       "      <td>NaN</td>\n",
       "      <td>NaN</td>\n",
       "      <td>NaN</td>\n",
       "      <td>NaN</td>\n",
       "      <td>NaN</td>\n",
       "      <td>NaN</td>\n",
       "      <td>NaN</td>\n",
       "      <td>...</td>\n",
       "      <td>NaN</td>\n",
       "      <td>NaN</td>\n",
       "      <td>NaN</td>\n",
       "      <td>NaN</td>\n",
       "      <td>NaN</td>\n",
       "      <td>NaN</td>\n",
       "      <td>NaN</td>\n",
       "      <td>NaN</td>\n",
       "      <td>NaN</td>\n",
       "      <td>NaN</td>\n",
       "    </tr>\n",
       "    <tr>\n",
       "      <th>Gender</th>\n",
       "      <td>NaN</td>\n",
       "      <td>1.0</td>\n",
       "      <td>NaN</td>\n",
       "      <td>NaN</td>\n",
       "      <td>NaN</td>\n",
       "      <td>NaN</td>\n",
       "      <td>NaN</td>\n",
       "      <td>NaN</td>\n",
       "      <td>NaN</td>\n",
       "      <td>NaN</td>\n",
       "      <td>...</td>\n",
       "      <td>NaN</td>\n",
       "      <td>NaN</td>\n",
       "      <td>NaN</td>\n",
       "      <td>NaN</td>\n",
       "      <td>NaN</td>\n",
       "      <td>NaN</td>\n",
       "      <td>NaN</td>\n",
       "      <td>NaN</td>\n",
       "      <td>NaN</td>\n",
       "      <td>NaN</td>\n",
       "    </tr>\n",
       "    <tr>\n",
       "      <th>Customer Type</th>\n",
       "      <td>NaN</td>\n",
       "      <td>NaN</td>\n",
       "      <td>1.0</td>\n",
       "      <td>NaN</td>\n",
       "      <td>NaN</td>\n",
       "      <td>NaN</td>\n",
       "      <td>NaN</td>\n",
       "      <td>NaN</td>\n",
       "      <td>NaN</td>\n",
       "      <td>NaN</td>\n",
       "      <td>...</td>\n",
       "      <td>NaN</td>\n",
       "      <td>NaN</td>\n",
       "      <td>NaN</td>\n",
       "      <td>NaN</td>\n",
       "      <td>NaN</td>\n",
       "      <td>NaN</td>\n",
       "      <td>NaN</td>\n",
       "      <td>NaN</td>\n",
       "      <td>NaN</td>\n",
       "      <td>NaN</td>\n",
       "    </tr>\n",
       "    <tr>\n",
       "      <th>Age</th>\n",
       "      <td>NaN</td>\n",
       "      <td>NaN</td>\n",
       "      <td>NaN</td>\n",
       "      <td>1.0</td>\n",
       "      <td>NaN</td>\n",
       "      <td>NaN</td>\n",
       "      <td>NaN</td>\n",
       "      <td>NaN</td>\n",
       "      <td>NaN</td>\n",
       "      <td>NaN</td>\n",
       "      <td>...</td>\n",
       "      <td>NaN</td>\n",
       "      <td>NaN</td>\n",
       "      <td>NaN</td>\n",
       "      <td>NaN</td>\n",
       "      <td>NaN</td>\n",
       "      <td>NaN</td>\n",
       "      <td>NaN</td>\n",
       "      <td>NaN</td>\n",
       "      <td>NaN</td>\n",
       "      <td>NaN</td>\n",
       "    </tr>\n",
       "    <tr>\n",
       "      <th>Type of Travel</th>\n",
       "      <td>NaN</td>\n",
       "      <td>NaN</td>\n",
       "      <td>NaN</td>\n",
       "      <td>NaN</td>\n",
       "      <td>1.000000</td>\n",
       "      <td>0.545185</td>\n",
       "      <td>NaN</td>\n",
       "      <td>NaN</td>\n",
       "      <td>NaN</td>\n",
       "      <td>NaN</td>\n",
       "      <td>...</td>\n",
       "      <td>NaN</td>\n",
       "      <td>NaN</td>\n",
       "      <td>NaN</td>\n",
       "      <td>NaN</td>\n",
       "      <td>NaN</td>\n",
       "      <td>NaN</td>\n",
       "      <td>NaN</td>\n",
       "      <td>NaN</td>\n",
       "      <td>NaN</td>\n",
       "      <td>0.448995</td>\n",
       "    </tr>\n",
       "    <tr>\n",
       "      <th>Class</th>\n",
       "      <td>NaN</td>\n",
       "      <td>NaN</td>\n",
       "      <td>NaN</td>\n",
       "      <td>NaN</td>\n",
       "      <td>0.545185</td>\n",
       "      <td>1.000000</td>\n",
       "      <td>0.451495</td>\n",
       "      <td>NaN</td>\n",
       "      <td>NaN</td>\n",
       "      <td>NaN</td>\n",
       "      <td>...</td>\n",
       "      <td>NaN</td>\n",
       "      <td>NaN</td>\n",
       "      <td>NaN</td>\n",
       "      <td>NaN</td>\n",
       "      <td>NaN</td>\n",
       "      <td>NaN</td>\n",
       "      <td>NaN</td>\n",
       "      <td>NaN</td>\n",
       "      <td>NaN</td>\n",
       "      <td>0.494545</td>\n",
       "    </tr>\n",
       "    <tr>\n",
       "      <th>Flight Distance</th>\n",
       "      <td>NaN</td>\n",
       "      <td>NaN</td>\n",
       "      <td>NaN</td>\n",
       "      <td>NaN</td>\n",
       "      <td>NaN</td>\n",
       "      <td>0.451495</td>\n",
       "      <td>1.000000</td>\n",
       "      <td>NaN</td>\n",
       "      <td>NaN</td>\n",
       "      <td>NaN</td>\n",
       "      <td>...</td>\n",
       "      <td>NaN</td>\n",
       "      <td>NaN</td>\n",
       "      <td>NaN</td>\n",
       "      <td>NaN</td>\n",
       "      <td>NaN</td>\n",
       "      <td>NaN</td>\n",
       "      <td>NaN</td>\n",
       "      <td>NaN</td>\n",
       "      <td>NaN</td>\n",
       "      <td>NaN</td>\n",
       "    </tr>\n",
       "    <tr>\n",
       "      <th>Inflight wifi service</th>\n",
       "      <td>NaN</td>\n",
       "      <td>NaN</td>\n",
       "      <td>NaN</td>\n",
       "      <td>NaN</td>\n",
       "      <td>NaN</td>\n",
       "      <td>NaN</td>\n",
       "      <td>NaN</td>\n",
       "      <td>1.000000</td>\n",
       "      <td>NaN</td>\n",
       "      <td>0.715848</td>\n",
       "      <td>...</td>\n",
       "      <td>NaN</td>\n",
       "      <td>NaN</td>\n",
       "      <td>NaN</td>\n",
       "      <td>NaN</td>\n",
       "      <td>NaN</td>\n",
       "      <td>NaN</td>\n",
       "      <td>NaN</td>\n",
       "      <td>NaN</td>\n",
       "      <td>NaN</td>\n",
       "      <td>NaN</td>\n",
       "    </tr>\n",
       "    <tr>\n",
       "      <th>Departure/Arrival time convenient</th>\n",
       "      <td>NaN</td>\n",
       "      <td>NaN</td>\n",
       "      <td>NaN</td>\n",
       "      <td>NaN</td>\n",
       "      <td>NaN</td>\n",
       "      <td>NaN</td>\n",
       "      <td>NaN</td>\n",
       "      <td>NaN</td>\n",
       "      <td>1.000000</td>\n",
       "      <td>0.437021</td>\n",
       "      <td>...</td>\n",
       "      <td>NaN</td>\n",
       "      <td>NaN</td>\n",
       "      <td>NaN</td>\n",
       "      <td>NaN</td>\n",
       "      <td>NaN</td>\n",
       "      <td>NaN</td>\n",
       "      <td>NaN</td>\n",
       "      <td>NaN</td>\n",
       "      <td>NaN</td>\n",
       "      <td>NaN</td>\n",
       "    </tr>\n",
       "    <tr>\n",
       "      <th>Ease of Online booking</th>\n",
       "      <td>NaN</td>\n",
       "      <td>NaN</td>\n",
       "      <td>NaN</td>\n",
       "      <td>NaN</td>\n",
       "      <td>NaN</td>\n",
       "      <td>NaN</td>\n",
       "      <td>NaN</td>\n",
       "      <td>0.715848</td>\n",
       "      <td>0.437021</td>\n",
       "      <td>1.000000</td>\n",
       "      <td>...</td>\n",
       "      <td>NaN</td>\n",
       "      <td>NaN</td>\n",
       "      <td>NaN</td>\n",
       "      <td>NaN</td>\n",
       "      <td>NaN</td>\n",
       "      <td>NaN</td>\n",
       "      <td>NaN</td>\n",
       "      <td>NaN</td>\n",
       "      <td>NaN</td>\n",
       "      <td>NaN</td>\n",
       "    </tr>\n",
       "    <tr>\n",
       "      <th>Gate location</th>\n",
       "      <td>NaN</td>\n",
       "      <td>NaN</td>\n",
       "      <td>NaN</td>\n",
       "      <td>NaN</td>\n",
       "      <td>NaN</td>\n",
       "      <td>NaN</td>\n",
       "      <td>NaN</td>\n",
       "      <td>NaN</td>\n",
       "      <td>0.444601</td>\n",
       "      <td>0.458746</td>\n",
       "      <td>...</td>\n",
       "      <td>NaN</td>\n",
       "      <td>NaN</td>\n",
       "      <td>NaN</td>\n",
       "      <td>NaN</td>\n",
       "      <td>NaN</td>\n",
       "      <td>NaN</td>\n",
       "      <td>NaN</td>\n",
       "      <td>NaN</td>\n",
       "      <td>NaN</td>\n",
       "      <td>NaN</td>\n",
       "    </tr>\n",
       "    <tr>\n",
       "      <th>Food and drink</th>\n",
       "      <td>NaN</td>\n",
       "      <td>NaN</td>\n",
       "      <td>NaN</td>\n",
       "      <td>NaN</td>\n",
       "      <td>NaN</td>\n",
       "      <td>NaN</td>\n",
       "      <td>NaN</td>\n",
       "      <td>NaN</td>\n",
       "      <td>NaN</td>\n",
       "      <td>NaN</td>\n",
       "      <td>...</td>\n",
       "      <td>0.622374</td>\n",
       "      <td>NaN</td>\n",
       "      <td>NaN</td>\n",
       "      <td>NaN</td>\n",
       "      <td>NaN</td>\n",
       "      <td>NaN</td>\n",
       "      <td>0.657648</td>\n",
       "      <td>NaN</td>\n",
       "      <td>NaN</td>\n",
       "      <td>NaN</td>\n",
       "    </tr>\n",
       "    <tr>\n",
       "      <th>Online boarding</th>\n",
       "      <td>NaN</td>\n",
       "      <td>NaN</td>\n",
       "      <td>NaN</td>\n",
       "      <td>NaN</td>\n",
       "      <td>NaN</td>\n",
       "      <td>NaN</td>\n",
       "      <td>NaN</td>\n",
       "      <td>0.457002</td>\n",
       "      <td>NaN</td>\n",
       "      <td>0.404093</td>\n",
       "      <td>...</td>\n",
       "      <td>NaN</td>\n",
       "      <td>NaN</td>\n",
       "      <td>NaN</td>\n",
       "      <td>NaN</td>\n",
       "      <td>NaN</td>\n",
       "      <td>NaN</td>\n",
       "      <td>NaN</td>\n",
       "      <td>NaN</td>\n",
       "      <td>NaN</td>\n",
       "      <td>0.503447</td>\n",
       "    </tr>\n",
       "    <tr>\n",
       "      <th>Seat comfort</th>\n",
       "      <td>NaN</td>\n",
       "      <td>NaN</td>\n",
       "      <td>NaN</td>\n",
       "      <td>NaN</td>\n",
       "      <td>NaN</td>\n",
       "      <td>NaN</td>\n",
       "      <td>NaN</td>\n",
       "      <td>NaN</td>\n",
       "      <td>NaN</td>\n",
       "      <td>NaN</td>\n",
       "      <td>...</td>\n",
       "      <td>0.610614</td>\n",
       "      <td>NaN</td>\n",
       "      <td>NaN</td>\n",
       "      <td>NaN</td>\n",
       "      <td>NaN</td>\n",
       "      <td>NaN</td>\n",
       "      <td>0.678478</td>\n",
       "      <td>NaN</td>\n",
       "      <td>NaN</td>\n",
       "      <td>NaN</td>\n",
       "    </tr>\n",
       "    <tr>\n",
       "      <th>Inflight entertainment</th>\n",
       "      <td>NaN</td>\n",
       "      <td>NaN</td>\n",
       "      <td>NaN</td>\n",
       "      <td>NaN</td>\n",
       "      <td>NaN</td>\n",
       "      <td>NaN</td>\n",
       "      <td>NaN</td>\n",
       "      <td>NaN</td>\n",
       "      <td>NaN</td>\n",
       "      <td>NaN</td>\n",
       "      <td>...</td>\n",
       "      <td>1.000000</td>\n",
       "      <td>0.420352</td>\n",
       "      <td>NaN</td>\n",
       "      <td>NaN</td>\n",
       "      <td>NaN</td>\n",
       "      <td>0.405247</td>\n",
       "      <td>0.691735</td>\n",
       "      <td>NaN</td>\n",
       "      <td>NaN</td>\n",
       "      <td>NaN</td>\n",
       "    </tr>\n",
       "    <tr>\n",
       "      <th>On-board service</th>\n",
       "      <td>NaN</td>\n",
       "      <td>NaN</td>\n",
       "      <td>NaN</td>\n",
       "      <td>NaN</td>\n",
       "      <td>NaN</td>\n",
       "      <td>NaN</td>\n",
       "      <td>NaN</td>\n",
       "      <td>NaN</td>\n",
       "      <td>NaN</td>\n",
       "      <td>NaN</td>\n",
       "      <td>...</td>\n",
       "      <td>0.420352</td>\n",
       "      <td>1.000000</td>\n",
       "      <td>NaN</td>\n",
       "      <td>0.519252</td>\n",
       "      <td>NaN</td>\n",
       "      <td>0.550725</td>\n",
       "      <td>NaN</td>\n",
       "      <td>NaN</td>\n",
       "      <td>NaN</td>\n",
       "      <td>NaN</td>\n",
       "    </tr>\n",
       "    <tr>\n",
       "      <th>Leg room service</th>\n",
       "      <td>NaN</td>\n",
       "      <td>NaN</td>\n",
       "      <td>NaN</td>\n",
       "      <td>NaN</td>\n",
       "      <td>NaN</td>\n",
       "      <td>NaN</td>\n",
       "      <td>NaN</td>\n",
       "      <td>NaN</td>\n",
       "      <td>NaN</td>\n",
       "      <td>NaN</td>\n",
       "      <td>...</td>\n",
       "      <td>NaN</td>\n",
       "      <td>NaN</td>\n",
       "      <td>1.0</td>\n",
       "      <td>NaN</td>\n",
       "      <td>NaN</td>\n",
       "      <td>NaN</td>\n",
       "      <td>NaN</td>\n",
       "      <td>NaN</td>\n",
       "      <td>NaN</td>\n",
       "      <td>NaN</td>\n",
       "    </tr>\n",
       "    <tr>\n",
       "      <th>Baggage handling</th>\n",
       "      <td>NaN</td>\n",
       "      <td>NaN</td>\n",
       "      <td>NaN</td>\n",
       "      <td>NaN</td>\n",
       "      <td>NaN</td>\n",
       "      <td>NaN</td>\n",
       "      <td>NaN</td>\n",
       "      <td>NaN</td>\n",
       "      <td>NaN</td>\n",
       "      <td>NaN</td>\n",
       "      <td>...</td>\n",
       "      <td>NaN</td>\n",
       "      <td>0.519252</td>\n",
       "      <td>NaN</td>\n",
       "      <td>1.000000</td>\n",
       "      <td>NaN</td>\n",
       "      <td>0.628944</td>\n",
       "      <td>NaN</td>\n",
       "      <td>NaN</td>\n",
       "      <td>NaN</td>\n",
       "      <td>NaN</td>\n",
       "    </tr>\n",
       "    <tr>\n",
       "      <th>Checkin service</th>\n",
       "      <td>NaN</td>\n",
       "      <td>NaN</td>\n",
       "      <td>NaN</td>\n",
       "      <td>NaN</td>\n",
       "      <td>NaN</td>\n",
       "      <td>NaN</td>\n",
       "      <td>NaN</td>\n",
       "      <td>NaN</td>\n",
       "      <td>NaN</td>\n",
       "      <td>NaN</td>\n",
       "      <td>...</td>\n",
       "      <td>NaN</td>\n",
       "      <td>NaN</td>\n",
       "      <td>NaN</td>\n",
       "      <td>NaN</td>\n",
       "      <td>1.0</td>\n",
       "      <td>NaN</td>\n",
       "      <td>NaN</td>\n",
       "      <td>NaN</td>\n",
       "      <td>NaN</td>\n",
       "      <td>NaN</td>\n",
       "    </tr>\n",
       "    <tr>\n",
       "      <th>Inflight service</th>\n",
       "      <td>NaN</td>\n",
       "      <td>NaN</td>\n",
       "      <td>NaN</td>\n",
       "      <td>NaN</td>\n",
       "      <td>NaN</td>\n",
       "      <td>NaN</td>\n",
       "      <td>NaN</td>\n",
       "      <td>NaN</td>\n",
       "      <td>NaN</td>\n",
       "      <td>NaN</td>\n",
       "      <td>...</td>\n",
       "      <td>0.405247</td>\n",
       "      <td>0.550725</td>\n",
       "      <td>NaN</td>\n",
       "      <td>0.628944</td>\n",
       "      <td>NaN</td>\n",
       "      <td>1.000000</td>\n",
       "      <td>NaN</td>\n",
       "      <td>NaN</td>\n",
       "      <td>NaN</td>\n",
       "      <td>NaN</td>\n",
       "    </tr>\n",
       "    <tr>\n",
       "      <th>Cleanliness</th>\n",
       "      <td>NaN</td>\n",
       "      <td>NaN</td>\n",
       "      <td>NaN</td>\n",
       "      <td>NaN</td>\n",
       "      <td>NaN</td>\n",
       "      <td>NaN</td>\n",
       "      <td>NaN</td>\n",
       "      <td>NaN</td>\n",
       "      <td>NaN</td>\n",
       "      <td>NaN</td>\n",
       "      <td>...</td>\n",
       "      <td>0.691735</td>\n",
       "      <td>NaN</td>\n",
       "      <td>NaN</td>\n",
       "      <td>NaN</td>\n",
       "      <td>NaN</td>\n",
       "      <td>NaN</td>\n",
       "      <td>1.000000</td>\n",
       "      <td>NaN</td>\n",
       "      <td>NaN</td>\n",
       "      <td>NaN</td>\n",
       "    </tr>\n",
       "    <tr>\n",
       "      <th>Departure Delay in Minutes</th>\n",
       "      <td>NaN</td>\n",
       "      <td>NaN</td>\n",
       "      <td>NaN</td>\n",
       "      <td>NaN</td>\n",
       "      <td>NaN</td>\n",
       "      <td>NaN</td>\n",
       "      <td>NaN</td>\n",
       "      <td>NaN</td>\n",
       "      <td>NaN</td>\n",
       "      <td>NaN</td>\n",
       "      <td>...</td>\n",
       "      <td>NaN</td>\n",
       "      <td>NaN</td>\n",
       "      <td>NaN</td>\n",
       "      <td>NaN</td>\n",
       "      <td>NaN</td>\n",
       "      <td>NaN</td>\n",
       "      <td>NaN</td>\n",
       "      <td>1.000000</td>\n",
       "      <td>0.965481</td>\n",
       "      <td>NaN</td>\n",
       "    </tr>\n",
       "    <tr>\n",
       "      <th>Arrival Delay in Minutes</th>\n",
       "      <td>NaN</td>\n",
       "      <td>NaN</td>\n",
       "      <td>NaN</td>\n",
       "      <td>NaN</td>\n",
       "      <td>NaN</td>\n",
       "      <td>NaN</td>\n",
       "      <td>NaN</td>\n",
       "      <td>NaN</td>\n",
       "      <td>NaN</td>\n",
       "      <td>NaN</td>\n",
       "      <td>...</td>\n",
       "      <td>NaN</td>\n",
       "      <td>NaN</td>\n",
       "      <td>NaN</td>\n",
       "      <td>NaN</td>\n",
       "      <td>NaN</td>\n",
       "      <td>NaN</td>\n",
       "      <td>NaN</td>\n",
       "      <td>0.965481</td>\n",
       "      <td>1.000000</td>\n",
       "      <td>NaN</td>\n",
       "    </tr>\n",
       "    <tr>\n",
       "      <th>satisfaction</th>\n",
       "      <td>NaN</td>\n",
       "      <td>NaN</td>\n",
       "      <td>NaN</td>\n",
       "      <td>NaN</td>\n",
       "      <td>0.448995</td>\n",
       "      <td>0.494545</td>\n",
       "      <td>NaN</td>\n",
       "      <td>NaN</td>\n",
       "      <td>NaN</td>\n",
       "      <td>NaN</td>\n",
       "      <td>...</td>\n",
       "      <td>NaN</td>\n",
       "      <td>NaN</td>\n",
       "      <td>NaN</td>\n",
       "      <td>NaN</td>\n",
       "      <td>NaN</td>\n",
       "      <td>NaN</td>\n",
       "      <td>NaN</td>\n",
       "      <td>NaN</td>\n",
       "      <td>NaN</td>\n",
       "      <td>1.000000</td>\n",
       "    </tr>\n",
       "  </tbody>\n",
       "</table>\n",
       "<p>24 rows × 24 columns</p>\n",
       "</div>"
      ],
      "text/plain": [
       "                                    id  Gender  Customer Type  Age  \\\n",
       "id                                 1.0     NaN            NaN  NaN   \n",
       "Gender                             NaN     1.0            NaN  NaN   \n",
       "Customer Type                      NaN     NaN            1.0  NaN   \n",
       "Age                                NaN     NaN            NaN  1.0   \n",
       "Type of Travel                     NaN     NaN            NaN  NaN   \n",
       "Class                              NaN     NaN            NaN  NaN   \n",
       "Flight Distance                    NaN     NaN            NaN  NaN   \n",
       "Inflight wifi service              NaN     NaN            NaN  NaN   \n",
       "Departure/Arrival time convenient  NaN     NaN            NaN  NaN   \n",
       "Ease of Online booking             NaN     NaN            NaN  NaN   \n",
       "Gate location                      NaN     NaN            NaN  NaN   \n",
       "Food and drink                     NaN     NaN            NaN  NaN   \n",
       "Online boarding                    NaN     NaN            NaN  NaN   \n",
       "Seat comfort                       NaN     NaN            NaN  NaN   \n",
       "Inflight entertainment             NaN     NaN            NaN  NaN   \n",
       "On-board service                   NaN     NaN            NaN  NaN   \n",
       "Leg room service                   NaN     NaN            NaN  NaN   \n",
       "Baggage handling                   NaN     NaN            NaN  NaN   \n",
       "Checkin service                    NaN     NaN            NaN  NaN   \n",
       "Inflight service                   NaN     NaN            NaN  NaN   \n",
       "Cleanliness                        NaN     NaN            NaN  NaN   \n",
       "Departure Delay in Minutes         NaN     NaN            NaN  NaN   \n",
       "Arrival Delay in Minutes           NaN     NaN            NaN  NaN   \n",
       "satisfaction                       NaN     NaN            NaN  NaN   \n",
       "\n",
       "                                   Type of Travel     Class  Flight Distance  \\\n",
       "id                                            NaN       NaN              NaN   \n",
       "Gender                                        NaN       NaN              NaN   \n",
       "Customer Type                                 NaN       NaN              NaN   \n",
       "Age                                           NaN       NaN              NaN   \n",
       "Type of Travel                           1.000000  0.545185              NaN   \n",
       "Class                                    0.545185  1.000000         0.451495   \n",
       "Flight Distance                               NaN  0.451495         1.000000   \n",
       "Inflight wifi service                         NaN       NaN              NaN   \n",
       "Departure/Arrival time convenient             NaN       NaN              NaN   \n",
       "Ease of Online booking                        NaN       NaN              NaN   \n",
       "Gate location                                 NaN       NaN              NaN   \n",
       "Food and drink                                NaN       NaN              NaN   \n",
       "Online boarding                               NaN       NaN              NaN   \n",
       "Seat comfort                                  NaN       NaN              NaN   \n",
       "Inflight entertainment                        NaN       NaN              NaN   \n",
       "On-board service                              NaN       NaN              NaN   \n",
       "Leg room service                              NaN       NaN              NaN   \n",
       "Baggage handling                              NaN       NaN              NaN   \n",
       "Checkin service                               NaN       NaN              NaN   \n",
       "Inflight service                              NaN       NaN              NaN   \n",
       "Cleanliness                                   NaN       NaN              NaN   \n",
       "Departure Delay in Minutes                    NaN       NaN              NaN   \n",
       "Arrival Delay in Minutes                      NaN       NaN              NaN   \n",
       "satisfaction                             0.448995  0.494545              NaN   \n",
       "\n",
       "                                   Inflight wifi service  \\\n",
       "id                                                   NaN   \n",
       "Gender                                               NaN   \n",
       "Customer Type                                        NaN   \n",
       "Age                                                  NaN   \n",
       "Type of Travel                                       NaN   \n",
       "Class                                                NaN   \n",
       "Flight Distance                                      NaN   \n",
       "Inflight wifi service                           1.000000   \n",
       "Departure/Arrival time convenient                    NaN   \n",
       "Ease of Online booking                          0.715848   \n",
       "Gate location                                        NaN   \n",
       "Food and drink                                       NaN   \n",
       "Online boarding                                 0.457002   \n",
       "Seat comfort                                         NaN   \n",
       "Inflight entertainment                               NaN   \n",
       "On-board service                                     NaN   \n",
       "Leg room service                                     NaN   \n",
       "Baggage handling                                     NaN   \n",
       "Checkin service                                      NaN   \n",
       "Inflight service                                     NaN   \n",
       "Cleanliness                                          NaN   \n",
       "Departure Delay in Minutes                           NaN   \n",
       "Arrival Delay in Minutes                             NaN   \n",
       "satisfaction                                         NaN   \n",
       "\n",
       "                                   Departure/Arrival time convenient  \\\n",
       "id                                                               NaN   \n",
       "Gender                                                           NaN   \n",
       "Customer Type                                                    NaN   \n",
       "Age                                                              NaN   \n",
       "Type of Travel                                                   NaN   \n",
       "Class                                                            NaN   \n",
       "Flight Distance                                                  NaN   \n",
       "Inflight wifi service                                            NaN   \n",
       "Departure/Arrival time convenient                           1.000000   \n",
       "Ease of Online booking                                      0.437021   \n",
       "Gate location                                               0.444601   \n",
       "Food and drink                                                   NaN   \n",
       "Online boarding                                                  NaN   \n",
       "Seat comfort                                                     NaN   \n",
       "Inflight entertainment                                           NaN   \n",
       "On-board service                                                 NaN   \n",
       "Leg room service                                                 NaN   \n",
       "Baggage handling                                                 NaN   \n",
       "Checkin service                                                  NaN   \n",
       "Inflight service                                                 NaN   \n",
       "Cleanliness                                                      NaN   \n",
       "Departure Delay in Minutes                                       NaN   \n",
       "Arrival Delay in Minutes                                         NaN   \n",
       "satisfaction                                                     NaN   \n",
       "\n",
       "                                   Ease of Online booking  ...  \\\n",
       "id                                                    NaN  ...   \n",
       "Gender                                                NaN  ...   \n",
       "Customer Type                                         NaN  ...   \n",
       "Age                                                   NaN  ...   \n",
       "Type of Travel                                        NaN  ...   \n",
       "Class                                                 NaN  ...   \n",
       "Flight Distance                                       NaN  ...   \n",
       "Inflight wifi service                            0.715848  ...   \n",
       "Departure/Arrival time convenient                0.437021  ...   \n",
       "Ease of Online booking                           1.000000  ...   \n",
       "Gate location                                    0.458746  ...   \n",
       "Food and drink                                        NaN  ...   \n",
       "Online boarding                                  0.404093  ...   \n",
       "Seat comfort                                          NaN  ...   \n",
       "Inflight entertainment                                NaN  ...   \n",
       "On-board service                                      NaN  ...   \n",
       "Leg room service                                      NaN  ...   \n",
       "Baggage handling                                      NaN  ...   \n",
       "Checkin service                                       NaN  ...   \n",
       "Inflight service                                      NaN  ...   \n",
       "Cleanliness                                           NaN  ...   \n",
       "Departure Delay in Minutes                            NaN  ...   \n",
       "Arrival Delay in Minutes                              NaN  ...   \n",
       "satisfaction                                          NaN  ...   \n",
       "\n",
       "                                   Inflight entertainment  On-board service  \\\n",
       "id                                                    NaN               NaN   \n",
       "Gender                                                NaN               NaN   \n",
       "Customer Type                                         NaN               NaN   \n",
       "Age                                                   NaN               NaN   \n",
       "Type of Travel                                        NaN               NaN   \n",
       "Class                                                 NaN               NaN   \n",
       "Flight Distance                                       NaN               NaN   \n",
       "Inflight wifi service                                 NaN               NaN   \n",
       "Departure/Arrival time convenient                     NaN               NaN   \n",
       "Ease of Online booking                                NaN               NaN   \n",
       "Gate location                                         NaN               NaN   \n",
       "Food and drink                                   0.622374               NaN   \n",
       "Online boarding                                       NaN               NaN   \n",
       "Seat comfort                                     0.610614               NaN   \n",
       "Inflight entertainment                           1.000000          0.420352   \n",
       "On-board service                                 0.420352          1.000000   \n",
       "Leg room service                                      NaN               NaN   \n",
       "Baggage handling                                      NaN          0.519252   \n",
       "Checkin service                                       NaN               NaN   \n",
       "Inflight service                                 0.405247          0.550725   \n",
       "Cleanliness                                      0.691735               NaN   \n",
       "Departure Delay in Minutes                            NaN               NaN   \n",
       "Arrival Delay in Minutes                              NaN               NaN   \n",
       "satisfaction                                          NaN               NaN   \n",
       "\n",
       "                                   Leg room service  Baggage handling  \\\n",
       "id                                              NaN               NaN   \n",
       "Gender                                          NaN               NaN   \n",
       "Customer Type                                   NaN               NaN   \n",
       "Age                                             NaN               NaN   \n",
       "Type of Travel                                  NaN               NaN   \n",
       "Class                                           NaN               NaN   \n",
       "Flight Distance                                 NaN               NaN   \n",
       "Inflight wifi service                           NaN               NaN   \n",
       "Departure/Arrival time convenient               NaN               NaN   \n",
       "Ease of Online booking                          NaN               NaN   \n",
       "Gate location                                   NaN               NaN   \n",
       "Food and drink                                  NaN               NaN   \n",
       "Online boarding                                 NaN               NaN   \n",
       "Seat comfort                                    NaN               NaN   \n",
       "Inflight entertainment                          NaN               NaN   \n",
       "On-board service                                NaN          0.519252   \n",
       "Leg room service                                1.0               NaN   \n",
       "Baggage handling                                NaN          1.000000   \n",
       "Checkin service                                 NaN               NaN   \n",
       "Inflight service                                NaN          0.628944   \n",
       "Cleanliness                                     NaN               NaN   \n",
       "Departure Delay in Minutes                      NaN               NaN   \n",
       "Arrival Delay in Minutes                        NaN               NaN   \n",
       "satisfaction                                    NaN               NaN   \n",
       "\n",
       "                                   Checkin service  Inflight service  \\\n",
       "id                                             NaN               NaN   \n",
       "Gender                                         NaN               NaN   \n",
       "Customer Type                                  NaN               NaN   \n",
       "Age                                            NaN               NaN   \n",
       "Type of Travel                                 NaN               NaN   \n",
       "Class                                          NaN               NaN   \n",
       "Flight Distance                                NaN               NaN   \n",
       "Inflight wifi service                          NaN               NaN   \n",
       "Departure/Arrival time convenient              NaN               NaN   \n",
       "Ease of Online booking                         NaN               NaN   \n",
       "Gate location                                  NaN               NaN   \n",
       "Food and drink                                 NaN               NaN   \n",
       "Online boarding                                NaN               NaN   \n",
       "Seat comfort                                   NaN               NaN   \n",
       "Inflight entertainment                         NaN          0.405247   \n",
       "On-board service                               NaN          0.550725   \n",
       "Leg room service                               NaN               NaN   \n",
       "Baggage handling                               NaN          0.628944   \n",
       "Checkin service                                1.0               NaN   \n",
       "Inflight service                               NaN          1.000000   \n",
       "Cleanliness                                    NaN               NaN   \n",
       "Departure Delay in Minutes                     NaN               NaN   \n",
       "Arrival Delay in Minutes                       NaN               NaN   \n",
       "satisfaction                                   NaN               NaN   \n",
       "\n",
       "                                   Cleanliness  Departure Delay in Minutes  \\\n",
       "id                                         NaN                         NaN   \n",
       "Gender                                     NaN                         NaN   \n",
       "Customer Type                              NaN                         NaN   \n",
       "Age                                        NaN                         NaN   \n",
       "Type of Travel                             NaN                         NaN   \n",
       "Class                                      NaN                         NaN   \n",
       "Flight Distance                            NaN                         NaN   \n",
       "Inflight wifi service                      NaN                         NaN   \n",
       "Departure/Arrival time convenient          NaN                         NaN   \n",
       "Ease of Online booking                     NaN                         NaN   \n",
       "Gate location                              NaN                         NaN   \n",
       "Food and drink                        0.657648                         NaN   \n",
       "Online boarding                            NaN                         NaN   \n",
       "Seat comfort                          0.678478                         NaN   \n",
       "Inflight entertainment                0.691735                         NaN   \n",
       "On-board service                           NaN                         NaN   \n",
       "Leg room service                           NaN                         NaN   \n",
       "Baggage handling                           NaN                         NaN   \n",
       "Checkin service                            NaN                         NaN   \n",
       "Inflight service                           NaN                         NaN   \n",
       "Cleanliness                           1.000000                         NaN   \n",
       "Departure Delay in Minutes                 NaN                    1.000000   \n",
       "Arrival Delay in Minutes                   NaN                    0.965481   \n",
       "satisfaction                               NaN                         NaN   \n",
       "\n",
       "                                   Arrival Delay in Minutes  satisfaction  \n",
       "id                                                      NaN           NaN  \n",
       "Gender                                                  NaN           NaN  \n",
       "Customer Type                                           NaN           NaN  \n",
       "Age                                                     NaN           NaN  \n",
       "Type of Travel                                          NaN      0.448995  \n",
       "Class                                                   NaN      0.494545  \n",
       "Flight Distance                                         NaN           NaN  \n",
       "Inflight wifi service                                   NaN           NaN  \n",
       "Departure/Arrival time convenient                       NaN           NaN  \n",
       "Ease of Online booking                                  NaN           NaN  \n",
       "Gate location                                           NaN           NaN  \n",
       "Food and drink                                          NaN           NaN  \n",
       "Online boarding                                         NaN      0.503447  \n",
       "Seat comfort                                            NaN           NaN  \n",
       "Inflight entertainment                                  NaN           NaN  \n",
       "On-board service                                        NaN           NaN  \n",
       "Leg room service                                        NaN           NaN  \n",
       "Baggage handling                                        NaN           NaN  \n",
       "Checkin service                                         NaN           NaN  \n",
       "Inflight service                                        NaN           NaN  \n",
       "Cleanliness                                             NaN           NaN  \n",
       "Departure Delay in Minutes                         0.965481           NaN  \n",
       "Arrival Delay in Minutes                           1.000000           NaN  \n",
       "satisfaction                                            NaN      1.000000  \n",
       "\n",
       "[24 rows x 24 columns]"
      ]
     },
     "execution_count": 16,
     "metadata": {},
     "output_type": "execute_result"
    }
   ],
   "source": [
    "train_corr[train_corr.abs() > 0.4]"
   ]
  },
  {
   "cell_type": "markdown",
   "metadata": {},
   "source": [
    "It can be observed that output variable [satisfaction] is highly correlated with [Type of Travel], [Class], "
   ]
  },
  {
   "cell_type": "code",
   "execution_count": 17,
   "metadata": {
    "scrolled": true
   },
   "outputs": [
    {
     "data": {
      "text/plain": [
       "<AxesSubplot:xlabel='Type of Travel', ylabel='count'>"
      ]
     },
     "execution_count": 17,
     "metadata": {},
     "output_type": "execute_result"
    },
    {
     "data": {
      "image/png": "[encoded data removed]",
      "text/plain": [
       "<Figure size 432x288 with 1 Axes>"
      ]
     },
     "metadata": {
      "needs_background": "light"
     },
     "output_type": "display_data"
    }
   ],
   "source": [
    "sns.countplot(x = train_data1['Type of Travel'],hue = train_data1['Class'])"
   ]
  },
  {
   "cell_type": "code",
   "execution_count": 18,
   "metadata": {},
   "outputs": [
    {
     "name": "stdout",
     "output_type": "stream",
     "text": [
      "The test statistic is: 31790.519736133203, and corresponding p-value is: 0.0.\n"
     ]
    }
   ],
   "source": [
    "stat, p, df, expected = chi2_contingency(pd.crosstab(train_data1['Type of Travel'], train_data1['Class']))\n",
    "print(\"The test statistic is: {}, and corresponding p-value is: {}.\".format(stat,p))"
   ]
  },
  {
   "cell_type": "code",
   "execution_count": 19,
   "metadata": {
    "scrolled": false
   },
   "outputs": [
    {
     "data": {
      "text/plain": [
       "<AxesSubplot:xlabel='Class', ylabel='count'>"
      ]
     },
     "execution_count": 19,
     "metadata": {},
     "output_type": "execute_result"
    },
    {
     "data": {
      "image/png": "[encoded data removed]",
      "text/plain": [
       "<Figure size 432x288 with 1 Axes>"
      ]
     },
     "metadata": {
      "needs_background": "light"
     },
     "output_type": "display_data"
    }
   ],
   "source": [
    "sns.countplot(x = train_data1['Class'],hue = train_data1['satisfaction'])"
   ]
  },
  {
   "cell_type": "code",
   "execution_count": 20,
   "metadata": {},
   "outputs": [
    {
     "name": "stdout",
     "output_type": "stream",
     "text": [
      "The test statistic is: 26402.22202396346, and corresponding p-value is: 0.0.\n"
     ]
    }
   ],
   "source": [
    "stat, p, df, expected = chi2_contingency(pd.crosstab(train_data1['satisfaction'], train_data1['Class']))\n",
    "print(\"The test statistic is: {}, and corresponding p-value is: {}.\".format(stat,p))"
   ]
  },
  {
   "cell_type": "code",
   "execution_count": 21,
   "metadata": {
    "scrolled": true
   },
   "outputs": [
    {
     "data": {
      "text/plain": [
       "<AxesSubplot:xlabel='Type of Travel', ylabel='count'>"
      ]
     },
     "execution_count": 21,
     "metadata": {},
     "output_type": "execute_result"
    },
    {
     "data": {
      "image/png": "[encoded data removed]",
      "text/plain": [
       "<Figure size 432x288 with 1 Axes>"
      ]
     },
     "metadata": {
      "needs_background": "light"
     },
     "output_type": "display_data"
    }
   ],
   "source": [
    "sns.countplot(x = train_data1['Type of Travel'],hue = train_data1['satisfaction'])"
   ]
  },
  {
   "cell_type": "code",
   "execution_count": 22,
   "metadata": {},
   "outputs": [
    {
     "name": "stdout",
     "output_type": "stream",
     "text": [
      "The test statistic is: 20882.2212853913, and corresponding p-value is: 0.0.\n"
     ]
    }
   ],
   "source": [
    "stat, p, df, expected = chi2_contingency(pd.crosstab(train_data1['Type of Travel'], train_data1['satisfaction']))\n",
    "print(\"The test statistic is: {}, and corresponding p-value is: {}.\".format(stat,p))"
   ]
  },
  {
   "cell_type": "markdown",
   "metadata": {},
   "source": [
    "# 2. Machine Learning Implementation"
   ]
  },
  {
   "cell_type": "markdown",
   "metadata": {},
   "source": [
    "## 2.1 Traditional Machine Learning (Logistic, KNN, Decision Tree, SVM)"
   ]
  },
  {
   "cell_type": "code",
   "execution_count": 23,
   "metadata": {},
   "outputs": [],
   "source": [
    "X_train = train_data.drop(['satisfaction'], axis=1)\n",
    "X_train = StandardScaler().fit_transform(X_train)\n",
    "y_train = train_data['satisfaction'].values\n",
    "\n",
    "X_test = test_data.drop(['satisfaction'], axis=1)\n",
    "X_test = StandardScaler().fit_transform(X_test)\n",
    "y_test = test_data['satisfaction'].values"
   ]
  },
  {
   "cell_type": "code",
   "execution_count": 23,
   "metadata": {},
   "outputs": [
    {
     "name": "stdout",
     "output_type": "stream",
     "text": [
      "The time to train data with Logistic Regression is  0.1920901490000002 seconds\n"
     ]
    }
   ],
   "source": [
    "#Logistic Regression\n",
    "start = timeit.default_timer()\n",
    "#params = {'C':[0.01,0.1,1,10], 'penalty':['l1', 'l2', 'elasticnet']}\n",
    "#gscv = GridSearchCV(LogisticRegression(),params,refit=True)\n",
    "#gscv.fit(X_train,y_train)\n",
    "#print(gscv.best_estimator_)#C=0.01\n",
    "#grid_predictions = gscv.predict(X_test)\n",
    "#print(confusion_matrix(y_test,grid_predictions))\n",
    "#print(classification_report(y_test,grid_predictions))\n",
    "LR=LogisticRegression(tol=1e-3,C=0.01)\n",
    "LR.fit(X_train,y_train)\n",
    "err_lr=1-LR.score(X_test,y_test)\n",
    "#print(err_lr)\n",
    "stop = timeit.default_timer()\n",
    "time_lr=stop-start\n",
    "print('The time to train data with Logistic Regression is ', time_lr, 'seconds')"
   ]
  },
  {
   "cell_type": "code",
   "execution_count": 24,
   "metadata": {},
   "outputs": [
    {
     "name": "stdout",
     "output_type": "stream",
     "text": [
      "The time to train data with KNN is  50.117174714 seconds\n"
     ]
    }
   ],
   "source": [
    "#KNN with best hyperparameter n_neighbors=9\n",
    "start = timeit.default_timer()\n",
    "KNN=KNeighborsClassifier()\n",
    "#params = {'n_neighbors':list(range(8,11))}\n",
    "#gscv = GridSearchCV(KNN,params,refit=True)\n",
    "#gscv.fit(X_train,y_train)\n",
    "#print(gscv.best_estimator_)#n=9\n",
    "\n",
    "KNN=KNeighborsClassifier(n_neighbors=9)\n",
    "KNN.fit(X_train,y_train)\n",
    "err_knn=1-KNN.score(X_test,y_test)\n",
    "stop = timeit.default_timer()\n",
    "time_knn=stop-start\n",
    "print('The time to train data with KNN is ', time_knn, 'seconds')"
   ]
  },
  {
   "cell_type": "code",
   "execution_count": 25,
   "metadata": {},
   "outputs": [
    {
     "name": "stdout",
     "output_type": "stream",
     "text": [
      "The time to train data with Decision Tree is  0.6816551309999994 seconds\n"
     ]
    }
   ],
   "source": [
    "#Decision Tree\n",
    "start = timeit.default_timer()\n",
    "#params = {'min_samples_split': list(range(2,30,2)),'min_samples_leaf':list(range(10,30,2)),'max_depth':list(range(5,50,5))}\n",
    "#gscv = GridSearchCV(DecisionTreeClassifier(random_state=20,min_samples_leaf=14),params)\n",
    "#gscv.fit(X_train,y_train)\n",
    "#print(gscv.best_estimator_)#DecisionTreeClassifier(random_state=20,min_samples_split=10,min_samples_leaf=14,max_depth=20)\n",
    "DTC=DecisionTreeClassifier(random_state=20,min_samples_split=10,min_samples_leaf=14,max_depth=20)\n",
    "DTC.fit(X_train,y_train)\n",
    "err_dtc=1-DTC.score(X_test,y_test)\n",
    "#print(err_dtc)\n",
    "stop = timeit.default_timer()\n",
    "time_dtc=stop-start\n",
    "print('The time to train data with Decision Tree is ', time_dtc, 'seconds')"
   ]
  },
  {
   "cell_type": "code",
   "execution_count": 26,
   "metadata": {},
   "outputs": [
    {
     "name": "stdout",
     "output_type": "stream",
     "text": [
      "The time to train data with SVM is  328.91960473899996 seconds\n"
     ]
    }
   ],
   "source": [
    "#SVM with gaussian kernel\n",
    "start = timeit.default_timer()\n",
    "SVM=SVC(kernel='rbf',C=3)\n",
    "SVM.fit(X_train,y_train)\n",
    "err_svm=1-SVM.score(X_test,y_test)\n",
    "#print(err_svm)\n",
    "stop = timeit.default_timer()\n",
    "time_svm=stop-start\n",
    "print('The time to train data with SVM is ', time_svm, 'seconds')"
   ]
  },
  {
   "cell_type": "code",
   "execution_count": 27,
   "metadata": {},
   "outputs": [
    {
     "name": "stdout",
     "output_type": "stream",
     "text": [
      "The error of Logistic Regression is 12.775654% and the running time is 0.192090s.\n",
      "The error of KNN is 6.990306% and the running time is 50.117175s.\n",
      "The error of Decision Tree is 4.920249% and the running time is 0.681655s.\n",
      "The error of SVM is 4.001081% and the running time is 328.919605s.\n"
     ]
    }
   ],
   "source": [
    "#test errors for above 4 classifiers\n",
    "print('The error of Logistic Regression is %2f'%(err_lr*100)+'%', 'and the running time is %3fs.'%(time_lr))\n",
    "print('The error of KNN is %2f'%(err_knn*100)+'%','and the running time is %3fs.'%(time_knn))\n",
    "print('The error of Decision Tree is %2f'%(err_dtc*100)+'%','and the running time is %3fs.'%(time_dtc))\n",
    "print('The error of SVM is %2f'%(err_svm*100)+'%','and the running time is %3fs.'%(time_svm))"
   ]
  },
  {
   "cell_type": "markdown",
   "metadata": {},
   "source": [
    "## 2.2 Deep Learning (DNN)"
   ]
  },
  {
   "cell_type": "code",
   "execution_count": 24,
   "metadata": {},
   "outputs": [],
   "source": [
    "X = train_data.drop(['satisfaction'], axis=1)\n",
    "X = StandardScaler().fit_transform(X)\n",
    "\n",
    "y = train_data['satisfaction'].values\n",
    "ohe = OneHotEncoder()\n",
    "y_ohe = ohe.fit_transform(y.reshape(-1,1)).toarray()\n",
    "\n",
    "train_X, val_X, train_y, val_y = train_test_split(X, y_ohe, test_size=0.2, stratify=y)\n",
    "test_X = test_data.drop(['satisfaction'], axis=1)\n",
    "test_X = StandardScaler().fit_transform(test_X)\n",
    "test_y = test_data['satisfaction'].values\n",
    "test_y_ohe = ohe.transform(test_y.reshape(-1,1)).toarray()"
   ]
  },
  {
   "cell_type": "code",
   "execution_count": 25,
   "metadata": {},
   "outputs": [
    {
     "name": "stdout",
     "output_type": "stream",
     "text": [
      "(82875, 23)\n",
      "(82875, 2)\n",
      "(20719, 23)\n",
      "(20719, 2)\n"
     ]
    }
   ],
   "source": [
    "print(train_X.shape)\n",
    "print(train_y.shape)\n",
    "print(val_X.shape)\n",
    "print(val_y.shape)"
   ]
  },
  {
   "cell_type": "code",
   "execution_count": 26,
   "metadata": {},
   "outputs": [
    {
     "data": {
      "text/plain": [
       "array([[1., 0.],\n",
       "       [1., 0.],\n",
       "       [1., 0.],\n",
       "       ...,\n",
       "       [0., 1.],\n",
       "       [1., 0.],\n",
       "       [1., 0.]])"
      ]
     },
     "execution_count": 26,
     "metadata": {},
     "output_type": "execute_result"
    }
   ],
   "source": [
    "val_y"
   ]
  },
  {
   "cell_type": "code",
   "execution_count": 27,
   "metadata": {},
   "outputs": [
    {
     "name": "stderr",
     "output_type": "stream",
     "text": [
      "2022-04-25 23:58:06.245720: I tensorflow/core/platform/cpu_feature_guard.cc:151] This TensorFlow binary is optimized with oneAPI Deep Neural Network Library (oneDNN) to use the following CPU instructions in performance-critical operations:  AVX2 FMA\n",
      "To enable them in other operations, rebuild TensorFlow with the appropriate compiler flags.\n"
     ]
    },
    {
     "name": "stdout",
     "output_type": "stream",
     "text": [
      "Epoch 1/5\n",
      "648/648 [==============================] - 2s 2ms/step - loss: 0.1878 - accuracy: 0.9252 - val_loss: 0.1318 - val_accuracy: 0.9467\n",
      "Epoch 2/5\n",
      "648/648 [==============================] - 1s 2ms/step - loss: 0.1193 - accuracy: 0.9508 - val_loss: 0.1070 - val_accuracy: 0.9557\n",
      "Epoch 3/5\n",
      "648/648 [==============================] - 1s 2ms/step - loss: 0.1039 - accuracy: 0.9567 - val_loss: 0.0985 - val_accuracy: 0.9580\n",
      "Epoch 4/5\n",
      "648/648 [==============================] - 1s 2ms/step - loss: 0.0968 - accuracy: 0.9591 - val_loss: 0.0920 - val_accuracy: 0.9616\n",
      "Epoch 5/5\n",
      "648/648 [==============================] - 1s 2ms/step - loss: 0.0916 - accuracy: 0.9605 - val_loss: 0.0915 - val_accuracy: 0.9621\n"
     ]
    },
    {
     "data": {
      "text/plain": [
       "<keras.callbacks.History at 0x7fc7a2041cd0>"
      ]
     },
     "execution_count": 27,
     "metadata": {},
     "output_type": "execute_result"
    }
   ],
   "source": [
    "from keras.models import Sequential\n",
    "from keras.layers import Dense, Dropout\n",
    "\n",
    "mymodel = Sequential()\n",
    "mymodel.add(Dense(256, activation='relu', input_shape = (23,)))\n",
    "mymodel.add(Dense(256, activation='relu'))\n",
    "mymodel.add(Dropout(0.3))\n",
    "mymodel.add(Dense(128, activation='relu'))\n",
    "mymodel.add(Dropout(0.2))\n",
    "mymodel.add(Dense(2, activation='softmax'))\n",
    "mymodel.compile(optimizer='adam', loss='binary_crossentropy', metrics=['accuracy'])\n",
    "mymodel.fit(train_X, train_y, validation_data=(val_X, val_y), epochs=5, shuffle=True,batch_size=128)"
   ]
  },
  {
   "cell_type": "code",
   "execution_count": 28,
   "metadata": {},
   "outputs": [
    {
     "data": {
      "text/plain": [
       "array([[7.2482894e-06, 9.9999273e-01],\n",
       "       [3.8301506e-28, 1.0000000e+00],\n",
       "       [1.0000000e+00, 4.2466564e-09],\n",
       "       ...,\n",
       "       [1.0000000e+00, 7.9006016e-14],\n",
       "       [2.9541922e-15, 1.0000000e+00],\n",
       "       [1.0000000e+00, 1.3778558e-14]], dtype=float32)"
      ]
     },
     "execution_count": 28,
     "metadata": {},
     "output_type": "execute_result"
    }
   ],
   "source": [
    "mymodel.predict(test_X)"
   ]
  },
  {
   "cell_type": "code",
   "execution_count": 29,
   "metadata": {},
   "outputs": [
    {
     "data": {
      "text/plain": [
       "(<Figure size 432x288 with 1 Axes>,\n",
       " <AxesSubplot:xlabel='predicted label', ylabel='true label'>)"
      ]
     },
     "execution_count": 29,
     "metadata": {},
     "output_type": "execute_result"
    },
    {
     "data": {
      "image/png": "[encoded data removed]",
      "text/plain": [
       "<Figure size 432x288 with 1 Axes>"
      ]
     },
     "metadata": {
      "needs_background": "light"
     },
     "output_type": "display_data"
    }
   ],
   "source": [
    "b = ohe.inverse_transform(mymodel.predict(test_X))\n",
    "from sklearn.metrics import confusion_matrix\n",
    "from mlxtend.plotting import plot_confusion_matrix\n",
    "#c = ohe.inverse_transform(val_y)\n",
    "cm = confusion_matrix(test_y, b)\n",
    "plot_confusion_matrix(cm)"
   ]
  }
 ],
 "metadata": {
  "interpreter": {
   "hash": "752e6d6c9cb54eb8b5395c817148e1415d6142987ac48a4b101c834d1edd5383"
  },
  "kernelspec": {
   "display_name": "Python 3 (ipykernel)",
   "language": "python",
   "name": "python3"
  },
  "language_info": {
   "codemirror_mode": {
    "name": "ipython",
    "version": 3
   },
   "file_extension": ".py",
   "mimetype": "text/x-python",
   "name": "python",
   "nbconvert_exporter": "python",
   "pygments_lexer": "ipython3",
   "version": "3.9.7"
  }
 },
 "nbformat": 4,
 "nbformat_minor": 2
}
