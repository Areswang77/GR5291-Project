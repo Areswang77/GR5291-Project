{
 "cells": [
  {
   "cell_type": "markdown",
   "metadata": {},
   "source": [
    "# GR5291 Final Project\n",
    "\n",
    "## Group Member: Ares Wang(yw3626)"
   ]
  },
  {
   "cell_type": "code",
   "execution_count": 54,
   "metadata": {},
   "outputs": [],
   "source": [
    "import pandas as pd\n",
    "import numpy as np\n",
    "import matplotlib.pyplot as plt\n",
    "import seaborn as sns"
   ]
  },
  {
   "cell_type": "code",
   "execution_count": 55,
   "metadata": {},
   "outputs": [],
   "source": [
    "train_data = pd.read_csv('train.csv',index_col=0)\n",
    "test_data = pd.read_csv('test.csv', index_col=0)"
   ]
  },
  {
   "cell_type": "code",
   "execution_count": 56,
   "metadata": {},
   "outputs": [
    {
     "data": {
      "text/plain": [
       "id                                     0\n",
       "Gender                                 0\n",
       "Customer Type                          0\n",
       "Age                                    0\n",
       "Type of Travel                         0\n",
       "Class                                  0\n",
       "Flight Distance                        0\n",
       "Inflight wifi service                  0\n",
       "Departure/Arrival time convenient      0\n",
       "Ease of Online booking                 0\n",
       "Gate location                          0\n",
       "Food and drink                         0\n",
       "Online boarding                        0\n",
       "Seat comfort                           0\n",
       "Inflight entertainment                 0\n",
       "On-board service                       0\n",
       "Leg room service                       0\n",
       "Baggage handling                       0\n",
       "Checkin service                        0\n",
       "Inflight service                       0\n",
       "Cleanliness                            0\n",
       "Departure Delay in Minutes             0\n",
       "Arrival Delay in Minutes             310\n",
       "satisfaction                           0\n",
       "dtype: int64"
      ]
     },
     "execution_count": 56,
     "metadata": {},
     "output_type": "execute_result"
    }
   ],
   "source": [
    "train_data.isna().sum()"
   ]
  },
  {
   "cell_type": "code",
   "execution_count": 57,
   "metadata": {},
   "outputs": [
    {
     "data": {
      "text/plain": [
       "id                                    0\n",
       "Gender                                0\n",
       "Customer Type                         0\n",
       "Age                                   0\n",
       "Type of Travel                        0\n",
       "Class                                 0\n",
       "Flight Distance                       0\n",
       "Inflight wifi service                 0\n",
       "Departure/Arrival time convenient     0\n",
       "Ease of Online booking                0\n",
       "Gate location                         0\n",
       "Food and drink                        0\n",
       "Online boarding                       0\n",
       "Seat comfort                          0\n",
       "Inflight entertainment                0\n",
       "On-board service                      0\n",
       "Leg room service                      0\n",
       "Baggage handling                      0\n",
       "Checkin service                       0\n",
       "Inflight service                      0\n",
       "Cleanliness                           0\n",
       "Departure Delay in Minutes            0\n",
       "Arrival Delay in Minutes             83\n",
       "satisfaction                          0\n",
       "dtype: int64"
      ]
     },
     "execution_count": 57,
     "metadata": {},
     "output_type": "execute_result"
    }
   ],
   "source": [
    "test_data.isna().sum()"
   ]
  },
  {
   "cell_type": "code",
   "execution_count": 58,
   "metadata": {},
   "outputs": [
    {
     "name": "stdout",
     "output_type": "stream",
     "text": [
      "<class 'pandas.core.frame.DataFrame'>\n",
      "Int64Index: 103904 entries, 0 to 103903\n",
      "Data columns (total 24 columns):\n",
      " #   Column                             Non-Null Count   Dtype  \n",
      "---  ------                             --------------   -----  \n",
      " 0   id                                 103904 non-null  int64  \n",
      " 1   Gender                             103904 non-null  object \n",
      " 2   Customer Type                      103904 non-null  object \n",
      " 3   Age                                103904 non-null  int64  \n",
      " 4   Type of Travel                     103904 non-null  object \n",
      " 5   Class                              103904 non-null  object \n",
      " 6   Flight Distance                    103904 non-null  int64  \n",
      " 7   Inflight wifi service              103904 non-null  int64  \n",
      " 8   Departure/Arrival time convenient  103904 non-null  int64  \n",
      " 9   Ease of Online booking             103904 non-null  int64  \n",
      " 10  Gate location                      103904 non-null  int64  \n",
      " 11  Food and drink                     103904 non-null  int64  \n",
      " 12  Online boarding                    103904 non-null  int64  \n",
      " 13  Seat comfort                       103904 non-null  int64  \n",
      " 14  Inflight entertainment             103904 non-null  int64  \n",
      " 15  On-board service                   103904 non-null  int64  \n",
      " 16  Leg room service                   103904 non-null  int64  \n",
      " 17  Baggage handling                   103904 non-null  int64  \n",
      " 18  Checkin service                    103904 non-null  int64  \n",
      " 19  Inflight service                   103904 non-null  int64  \n",
      " 20  Cleanliness                        103904 non-null  int64  \n",
      " 21  Departure Delay in Minutes         103904 non-null  int64  \n",
      " 22  Arrival Delay in Minutes           103594 non-null  float64\n",
      " 23  satisfaction                       103904 non-null  object \n",
      "dtypes: float64(1), int64(18), object(5)\n",
      "memory usage: 19.8+ MB\n"
     ]
    }
   ],
   "source": [
    "train_data.info()"
   ]
  },
  {
   "cell_type": "code",
   "execution_count": 59,
   "metadata": {},
   "outputs": [
    {
     "name": "stdout",
     "output_type": "stream",
     "text": [
      "<class 'pandas.core.frame.DataFrame'>\n",
      "Int64Index: 25976 entries, 0 to 25975\n",
      "Data columns (total 24 columns):\n",
      " #   Column                             Non-Null Count  Dtype  \n",
      "---  ------                             --------------  -----  \n",
      " 0   id                                 25976 non-null  int64  \n",
      " 1   Gender                             25976 non-null  object \n",
      " 2   Customer Type                      25976 non-null  object \n",
      " 3   Age                                25976 non-null  int64  \n",
      " 4   Type of Travel                     25976 non-null  object \n",
      " 5   Class                              25976 non-null  object \n",
      " 6   Flight Distance                    25976 non-null  int64  \n",
      " 7   Inflight wifi service              25976 non-null  int64  \n",
      " 8   Departure/Arrival time convenient  25976 non-null  int64  \n",
      " 9   Ease of Online booking             25976 non-null  int64  \n",
      " 10  Gate location                      25976 non-null  int64  \n",
      " 11  Food and drink                     25976 non-null  int64  \n",
      " 12  Online boarding                    25976 non-null  int64  \n",
      " 13  Seat comfort                       25976 non-null  int64  \n",
      " 14  Inflight entertainment             25976 non-null  int64  \n",
      " 15  On-board service                   25976 non-null  int64  \n",
      " 16  Leg room service                   25976 non-null  int64  \n",
      " 17  Baggage handling                   25976 non-null  int64  \n",
      " 18  Checkin service                    25976 non-null  int64  \n",
      " 19  Inflight service                   25976 non-null  int64  \n",
      " 20  Cleanliness                        25976 non-null  int64  \n",
      " 21  Departure Delay in Minutes         25976 non-null  int64  \n",
      " 22  Arrival Delay in Minutes           25893 non-null  float64\n",
      " 23  satisfaction                       25976 non-null  object \n",
      "dtypes: float64(1), int64(18), object(5)\n",
      "memory usage: 5.0+ MB\n"
     ]
    }
   ],
   "source": [
    "test_data.info()"
   ]
  },
  {
   "cell_type": "code",
   "execution_count": 60,
   "metadata": {},
   "outputs": [],
   "source": [
    "# NAs in Arrival Delay in Minutes\n",
    "train_data.dropna(subset=['Arrival Delay in Minutes'],inplace=True)\n",
    "test_data.dropna(subset=['Arrival Delay in Minutes'],inplace=True)"
   ]
  },
  {
   "cell_type": "code",
   "execution_count": 61,
   "metadata": {},
   "outputs": [],
   "source": [
    "# Gender(Female, Male)\n",
    "from sklearn.preprocessing import LabelEncoder\n",
    "le1 = LabelEncoder()\n",
    "train_data.Gender = le1.fit_transform(train_data.Gender)\n",
    "test_data.Gender = le1.transform(test_data.Gender)\n",
    "\n",
    "# Customer Type(Loyal Customer, disloyal Customer)\n",
    "le2 = LabelEncoder()\n",
    "train_data['Customer Type'] = le2.fit_transform(train_data['Customer Type'])\n",
    "test_data['Customer Type'] = le2.transform(test_data['Customer Type'])\n",
    "\n",
    "# Type of Travel(Business travel, Personal Travel)\n",
    "le3 = LabelEncoder()\n",
    "train_data['Type of Travel'] = le3.fit_transform(train_data['Type of Travel'])\n",
    "test_data['Type of Travel'] = le3.transform(test_data['Type of Travel'])\n",
    "\n",
    "# Class(Business, Eco, Eco Plus)\n",
    "le4 = LabelEncoder()\n",
    "train_data['Class'] = le4.fit_transform(train_data['Class'])\n",
    "test_data['Class'] = le4.transform(test_data['Class'])\n"
   ]
  },
  {
   "cell_type": "code",
   "execution_count": 80,
   "metadata": {},
   "outputs": [],
   "source": [
    "from sklearn.model_selection import train_test_split\n",
    "from sklearn.preprocessing import StandardScaler\n",
    "from sklearn.preprocessing import OneHotEncoder\n",
    "X = train_data.drop(['satisfaction'], axis=1)\n",
    "X = StandardScaler().fit_transform(X)\n",
    "\n",
    "y = train_data['satisfaction'].values\n",
    "ohe = OneHotEncoder()\n",
    "y_ohe = ohe.fit_transform(y.reshape(-1,1)).toarray()\n",
    "\n",
    "train_X, val_X, train_y, val_y = train_test_split(X, y_ohe, test_size=0.2, stratify=y)\n",
    "test_X = test_data.drop(['satisfaction'], axis=1)\n",
    "test_X = StandardScaler().fit_transform(test_X)\n",
    "test_y = test_data['satisfaction'].values\n",
    "test_y_ohe = ohe.transform(test_y.reshape(-1,1)).toarray()"
   ]
  },
  {
   "cell_type": "code",
   "execution_count": 70,
   "metadata": {},
   "outputs": [
    {
     "name": "stdout",
     "output_type": "stream",
     "text": [
      "(82875, 23)\n",
      "(82875, 2)\n",
      "(20719, 23)\n",
      "(20719, 2)\n"
     ]
    }
   ],
   "source": [
    "print(train_X.shape)\n",
    "print(train_y.shape)\n",
    "print(val_X.shape)\n",
    "print(val_y.shape)"
   ]
  },
  {
   "cell_type": "code",
   "execution_count": 71,
   "metadata": {},
   "outputs": [
    {
     "data": {
      "text/plain": [
       "array([[1., 0.],\n",
       "       [1., 0.],\n",
       "       [1., 0.],\n",
       "       ...,\n",
       "       [0., 1.],\n",
       "       [0., 1.],\n",
       "       [1., 0.]])"
      ]
     },
     "execution_count": 71,
     "metadata": {},
     "output_type": "execute_result"
    }
   ],
   "source": [
    "val_y"
   ]
  },
  {
   "cell_type": "code",
   "execution_count": 82,
   "metadata": {},
   "outputs": [
    {
     "name": "stdout",
     "output_type": "stream",
     "text": [
      "Epoch 1/5\n",
      "648/648 [==============================] - 4s 5ms/step - loss: 0.1866 - accuracy: 0.9251 - val_loss: 0.1231 - val_accuracy: 0.9486\n",
      "Epoch 2/5\n",
      "648/648 [==============================] - 3s 4ms/step - loss: 0.1197 - accuracy: 0.9504 - val_loss: 0.1114 - val_accuracy: 0.9533\n",
      "Epoch 3/5\n",
      "648/648 [==============================] - 3s 4ms/step - loss: 0.1030 - accuracy: 0.9570 - val_loss: 0.0976 - val_accuracy: 0.9582\n",
      "Epoch 4/5\n",
      "648/648 [==============================] - 3s 4ms/step - loss: 0.0969 - accuracy: 0.9593 - val_loss: 0.0949 - val_accuracy: 0.9584\n",
      "Epoch 5/5\n",
      "648/648 [==============================] - 3s 5ms/step - loss: 0.0918 - accuracy: 0.9610 - val_loss: 0.0920 - val_accuracy: 0.9617\n"
     ]
    },
    {
     "data": {
      "text/plain": [
       "<keras.callbacks.History at 0x207012abf70>"
      ]
     },
     "execution_count": 82,
     "metadata": {},
     "output_type": "execute_result"
    }
   ],
   "source": [
    "from keras.models import Sequential\n",
    "from keras.layers import Dense, Dropout\n",
    "\n",
    "mymodel = Sequential()\n",
    "mymodel.add(Dense(256, activation='relu', input_shape = (23,)))\n",
    "mymodel.add(Dense(256, activation='relu'))\n",
    "mymodel.add(Dropout(0.3))\n",
    "mymodel.add(Dense(128, activation='relu'))\n",
    "mymodel.add(Dropout(0.2))\n",
    "mymodel.add(Dense(2, activation='softmax'))\n",
    "mymodel.compile(optimizer='adam', loss='binary_crossentropy', metrics=['accuracy'])\n",
    "mymodel.fit(train_X, train_y, validation_data=(val_X, val_y), epochs=5, shuffle=True,batch_size=128)"
   ]
  },
  {
   "cell_type": "code",
   "execution_count": 79,
   "metadata": {},
   "outputs": [
    {
     "data": {
      "text/plain": [
       "array([[1., 0.],\n",
       "       [1., 0.],\n",
       "       [1., 0.],\n",
       "       ...,\n",
       "       [1., 0.],\n",
       "       [1., 0.],\n",
       "       [1., 0.]], dtype=float32)"
      ]
     },
     "execution_count": 79,
     "metadata": {},
     "output_type": "execute_result"
    }
   ],
   "source": [
    "mymodel.predict(test_X)"
   ]
  },
  {
   "cell_type": "code",
   "execution_count": 83,
   "metadata": {},
   "outputs": [
    {
     "data": {
      "text/plain": [
       "(<Figure size 432x288 with 1 Axes>,\n",
       " <AxesSubplot:xlabel='predicted label', ylabel='true label'>)"
      ]
     },
     "execution_count": 83,
     "metadata": {},
     "output_type": "execute_result"
    },
    {
     "data": {
      "image/png": "[encoded data removed]",
      "text/plain": [
       "<Figure size 432x288 with 1 Axes>"
      ]
     },
     "metadata": {
      "needs_background": "light"
     },
     "output_type": "display_data"
    }
   ],
   "source": [
    "b = ohe.inverse_transform(mymodel.predict(test_X))\n",
    "from sklearn.metrics import confusion_matrix\n",
    "from mlxtend.plotting import plot_confusion_matrix\n",
    "#c = ohe.inverse_transform(val_y)\n",
    "cm = confusion_matrix(test_y, b)\n",
    "plot_confusion_matrix(cm)"
   ]
  }
 ],
 "metadata": {
  "interpreter": {
   "hash": "752e6d6c9cb54eb8b5395c817148e1415d6142987ac48a4b101c834d1edd5383"
  },
  "kernelspec": {
   "display_name": "Python 3.9.9 ('eods-s22')",
   "language": "python",
   "name": "python3"
  },
  "language_info": {
   "codemirror_mode": {
    "name": "ipython",
    "version": 3
   },
   "file_extension": ".py",
   "mimetype": "text/x-python",
   "name": "python",
   "nbconvert_exporter": "python",
   "pygments_lexer": "ipython3",
   "version": "3.9.9"
  },
  "orig_nbformat": 4
 },
 "nbformat": 4,
 "nbformat_minor": 2
}
